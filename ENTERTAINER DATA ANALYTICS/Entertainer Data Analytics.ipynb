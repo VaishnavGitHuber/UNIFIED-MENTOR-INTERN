{
 "cells": [
  {
   "cell_type": "markdown",
   "id": "1d7d8303",
   "metadata": {},
   "source": [
    "### AUTHOR : VAISHNAV KRISHNA P\n",
    "#### TITLE : Entertainer Data Analytics\n",
    "#### INTERNSHIP : UNIFIED MENTOR\n",
    "#### PROBLEM STATEMENT\n",
    "* Normal life can be stressful, and people need to relax. Being entertained by others is a wonderful way to take some time out of life. It can reduce stress and make life's issues easier to face. The media and entertainment industry consists of film, television, radio and print. These segments include movies, TV shows, radio shows, news, music, newspapers, magazines, and books. The entertainment industry is a group of sub-industries devoted to entertainment. The entertainment industry is used to describe the mass media companies that control the distribution and manufacture of mass media entertainment."
   ]
  },
  {
   "cell_type": "code",
   "execution_count": 2,
   "id": "d56880c4",
   "metadata": {},
   "outputs": [],
   "source": [
    "# Importing necessory libraries\n",
    "import pandas as pd\n",
    "import numpy as np\n",
    "import seaborn as sns\n",
    "import matplotlib.pyplot as plt\n",
    "%matplotlib inline"
   ]
  },
  {
   "cell_type": "code",
   "execution_count": 7,
   "id": "07c24e22",
   "metadata": {},
   "outputs": [],
   "source": [
    "# Loading the Entertainment Basic information\n",
    "basic_df = pd.read_excel(\"Entertainer - Basic Info.xlsx\")"
   ]
  },
  {
   "cell_type": "code",
   "execution_count": 8,
   "id": "34302516",
   "metadata": {},
   "outputs": [
    {
     "data": {
      "text/html": [
       "<div>\n",
       "<style scoped>\n",
       "    .dataframe tbody tr th:only-of-type {\n",
       "        vertical-align: middle;\n",
       "    }\n",
       "\n",
       "    .dataframe tbody tr th {\n",
       "        vertical-align: top;\n",
       "    }\n",
       "\n",
       "    .dataframe thead th {\n",
       "        text-align: right;\n",
       "    }\n",
       "</style>\n",
       "<table border=\"1\" class=\"dataframe\">\n",
       "  <thead>\n",
       "    <tr style=\"text-align: right;\">\n",
       "      <th></th>\n",
       "      <th>Entertainer</th>\n",
       "      <th>Gender (traditional)</th>\n",
       "      <th>Birth Year</th>\n",
       "    </tr>\n",
       "  </thead>\n",
       "  <tbody>\n",
       "    <tr>\n",
       "      <th>0</th>\n",
       "      <td>Adele</td>\n",
       "      <td>F</td>\n",
       "      <td>1988</td>\n",
       "    </tr>\n",
       "    <tr>\n",
       "      <th>1</th>\n",
       "      <td>Angelina Jolie</td>\n",
       "      <td>F</td>\n",
       "      <td>1975</td>\n",
       "    </tr>\n",
       "    <tr>\n",
       "      <th>2</th>\n",
       "      <td>Aretha Franklin</td>\n",
       "      <td>F</td>\n",
       "      <td>1942</td>\n",
       "    </tr>\n",
       "    <tr>\n",
       "      <th>3</th>\n",
       "      <td>Bette Davis</td>\n",
       "      <td>F</td>\n",
       "      <td>1908</td>\n",
       "    </tr>\n",
       "    <tr>\n",
       "      <th>4</th>\n",
       "      <td>Betty White</td>\n",
       "      <td>F</td>\n",
       "      <td>1922</td>\n",
       "    </tr>\n",
       "  </tbody>\n",
       "</table>\n",
       "</div>"
      ],
      "text/plain": [
       "       Entertainer Gender (traditional)  Birth Year\n",
       "0            Adele                    F        1988\n",
       "1   Angelina Jolie                    F        1975\n",
       "2  Aretha Franklin                    F        1942\n",
       "3      Bette Davis                    F        1908\n",
       "4      Betty White                    F        1922"
      ]
     },
     "execution_count": 8,
     "metadata": {},
     "output_type": "execute_result"
    }
   ],
   "source": [
    "basic_df.head()"
   ]
  },
  {
   "cell_type": "markdown",
   "id": "03371a4f",
   "metadata": {},
   "source": [
    "### PREPROCESSING OF BASIC INFO DATASET"
   ]
  },
  {
   "cell_type": "code",
   "execution_count": 15,
   "id": "35175799",
   "metadata": {},
   "outputs": [
    {
     "data": {
      "text/plain": [
       "(70, 3)"
      ]
     },
     "execution_count": 15,
     "metadata": {},
     "output_type": "execute_result"
    }
   ],
   "source": [
    "# shape of the datset\n",
    "basic_df.shape"
   ]
  },
  {
   "cell_type": "code",
   "execution_count": 10,
   "id": "2b9cd9e0",
   "metadata": {},
   "outputs": [
    {
     "data": {
      "text/plain": [
       "Entertainer             0\n",
       "Gender (traditional)    0\n",
       "Birth Year              0\n",
       "dtype: int64"
      ]
     },
     "execution_count": 10,
     "metadata": {},
     "output_type": "execute_result"
    }
   ],
   "source": [
    "# Checking the Missing value\n",
    "basic_df.isnull().sum()"
   ]
  },
  {
   "cell_type": "code",
   "execution_count": 13,
   "id": "e9e2b7ee",
   "metadata": {},
   "outputs": [
    {
     "name": "stdout",
     "output_type": "stream",
     "text": [
      "Entertainer: No of unique values 70\n",
      "Gender (traditional): No of unique values 2\n",
      "Birth Year: No of unique values 43\n"
     ]
    }
   ],
   "source": [
    "for feature in basic_df.columns:\n",
    "    print(\"{}: No of unique values {}\".format(feature,basic_df[feature].nunique()))"
   ]
  },
  {
   "cell_type": "code",
   "execution_count": 17,
   "id": "d5d02636",
   "metadata": {},
   "outputs": [
    {
     "data": {
      "text/plain": [
       "M    50\n",
       "F    20\n",
       "Name: Gender (traditional), dtype: int64"
      ]
     },
     "execution_count": 17,
     "metadata": {},
     "output_type": "execute_result"
    }
   ],
   "source": [
    "basic_df[\"Gender (traditional)\"].value_counts()"
   ]
  },
  {
   "cell_type": "code",
   "execution_count": 28,
   "id": "42ce8363",
   "metadata": {},
   "outputs": [
    {
     "data": {
      "image/png": "[encoded data removed]",
      "text/plain": [
       "<Figure size 640x480 with 1 Axes>"
      ]
     },
     "metadata": {},
     "output_type": "display_data"
    }
   ],
   "source": [
    "basic_df[\"Gender (traditional)\"].value_counts().plot(kind=\"bar\",color=[\"r\",\"b\"])\n",
    "plt.title(\"GENDER VS ENTERTAINERS\")\n",
    "plt.show()"
   ]
  },
  {
   "cell_type": "markdown",
   "id": "d17426bb",
   "metadata": {},
   "source": [
    "* Most of the Entertainers in the dataset is Male "
   ]
  },
  {
   "cell_type": "code",
   "execution_count": 32,
   "id": "8067fb88",
   "metadata": {},
   "outputs": [],
   "source": [
    "# Lading the Entertainer - Breakthrough Info dataset \n",
    "breakthrough_df = pd.read_excel(\"Entertainer - Breakthrough Info.xlsx\")\n",
    "df = breakthrough_df.copy()"
   ]
  },
  {
   "cell_type": "code",
   "execution_count": 33,
   "id": "545ba30e",
   "metadata": {},
   "outputs": [
    {
     "data": {
      "text/html": [
       "<div>\n",
       "<style scoped>\n",
       "    .dataframe tbody tr th:only-of-type {\n",
       "        vertical-align: middle;\n",
       "    }\n",
       "\n",
       "    .dataframe tbody tr th {\n",
       "        vertical-align: top;\n",
       "    }\n",
       "\n",
       "    .dataframe thead th {\n",
       "        text-align: right;\n",
       "    }\n",
       "</style>\n",
       "<table border=\"1\" class=\"dataframe\">\n",
       "  <thead>\n",
       "    <tr style=\"text-align: right;\">\n",
       "      <th></th>\n",
       "      <th>Entertainer</th>\n",
       "      <th>Year of Breakthrough/#1 Hit/Award Nomination</th>\n",
       "      <th>Breakthrough Name</th>\n",
       "      <th>Year of First Oscar/Grammy/Emmy</th>\n",
       "    </tr>\n",
       "  </thead>\n",
       "  <tbody>\n",
       "    <tr>\n",
       "      <th>0</th>\n",
       "      <td>Adele</td>\n",
       "      <td>2008</td>\n",
       "      <td>19</td>\n",
       "      <td>2009.0</td>\n",
       "    </tr>\n",
       "    <tr>\n",
       "      <th>1</th>\n",
       "      <td>Angelina Jolie</td>\n",
       "      <td>1999</td>\n",
       "      <td>Girl, Interrupted</td>\n",
       "      <td>1999.0</td>\n",
       "    </tr>\n",
       "    <tr>\n",
       "      <th>2</th>\n",
       "      <td>Aretha Franklin</td>\n",
       "      <td>1967</td>\n",
       "      <td>I Never Loved a Man (The Way I Love You)</td>\n",
       "      <td>1968.0</td>\n",
       "    </tr>\n",
       "    <tr>\n",
       "      <th>3</th>\n",
       "      <td>Bette Davis</td>\n",
       "      <td>1934</td>\n",
       "      <td>Of Human Bondage</td>\n",
       "      <td>1935.0</td>\n",
       "    </tr>\n",
       "    <tr>\n",
       "      <th>4</th>\n",
       "      <td>Betty White</td>\n",
       "      <td>1952</td>\n",
       "      <td>Life with Elilzabeth</td>\n",
       "      <td>1976.0</td>\n",
       "    </tr>\n",
       "  </tbody>\n",
       "</table>\n",
       "</div>"
      ],
      "text/plain": [
       "       Entertainer  Year of Breakthrough/#1 Hit/Award Nomination  \\\n",
       "0            Adele                                          2008   \n",
       "1   Angelina Jolie                                          1999   \n",
       "2  Aretha Franklin                                          1967   \n",
       "3      Bette Davis                                          1934   \n",
       "4      Betty White                                          1952   \n",
       "\n",
       "                          Breakthrough Name  Year of First Oscar/Grammy/Emmy  \n",
       "0                                        19                           2009.0  \n",
       "1                         Girl, Interrupted                           1999.0  \n",
       "2  I Never Loved a Man (The Way I Love You)                           1968.0  \n",
       "3                          Of Human Bondage                           1935.0  \n",
       "4                      Life with Elilzabeth                           1976.0  "
      ]
     },
     "execution_count": 33,
     "metadata": {},
     "output_type": "execute_result"
    }
   ],
   "source": [
    "df.head()"
   ]
  },
  {
   "cell_type": "markdown",
   "id": "6ca4332f",
   "metadata": {},
   "source": [
    "### PREPROCESSING BREAKTHROUGH INFO DATASET"
   ]
  },
  {
   "cell_type": "code",
   "execution_count": 34,
   "id": "2b7329ea",
   "metadata": {},
   "outputs": [
    {
     "data": {
      "text/plain": [
       "(70, 4)"
      ]
     },
     "execution_count": 34,
     "metadata": {},
     "output_type": "execute_result"
    }
   ],
   "source": [
    "# Shape of the dataset\n",
    "df.shape"
   ]
  },
  {
   "cell_type": "code",
   "execution_count": 35,
   "id": "d13a8c57",
   "metadata": {},
   "outputs": [
    {
     "data": {
      "text/plain": [
       "Entertainer                                     0\n",
       "Year of Breakthrough/#1 Hit/Award Nomination    0\n",
       "Breakthrough Name                               0\n",
       "Year of First Oscar/Grammy/Emmy                 6\n",
       "dtype: int64"
      ]
     },
     "execution_count": 35,
     "metadata": {},
     "output_type": "execute_result"
    }
   ],
   "source": [
    "# Lets check for the missing values \n",
    "df.isnull().sum()"
   ]
  },
  {
   "cell_type": "code",
   "execution_count": 37,
   "id": "93d337e9",
   "metadata": {},
   "outputs": [
    {
     "name": "stdout",
     "output_type": "stream",
     "text": [
      "Entertainer: No of unique values 70\n",
      "Year of Breakthrough/#1 Hit/Award Nomination: No of unique values 50\n",
      "Breakthrough Name: No of unique values 69\n",
      "Year of First Oscar/Grammy/Emmy: No of unique values 44\n"
     ]
    }
   ],
   "source": [
    "# No of unique values \n",
    "for feature in df.columns:\n",
    "    print(\"{}: No of unique values {}\".format(feature,df[feature].nunique()))"
   ]
  },
  {
   "cell_type": "code",
   "execution_count": 46,
   "id": "9e2b6b11",
   "metadata": {},
   "outputs": [
    {
     "data": {
      "text/html": [
       "<div>\n",
       "<style scoped>\n",
       "    .dataframe tbody tr th:only-of-type {\n",
       "        vertical-align: middle;\n",
       "    }\n",
       "\n",
       "    .dataframe tbody tr th {\n",
       "        vertical-align: top;\n",
       "    }\n",
       "\n",
       "    .dataframe thead th {\n",
       "        text-align: right;\n",
       "    }\n",
       "</style>\n",
       "<table border=\"1\" class=\"dataframe\">\n",
       "  <thead>\n",
       "    <tr style=\"text-align: right;\">\n",
       "      <th></th>\n",
       "      <th>Entertainer</th>\n",
       "      <th>Year of Breakthrough/#1 Hit/Award Nomination</th>\n",
       "      <th>Breakthrough Name</th>\n",
       "      <th>Year of First Oscar/Grammy/Emmy</th>\n",
       "    </tr>\n",
       "  </thead>\n",
       "  <tbody>\n",
       "    <tr>\n",
       "      <th>8</th>\n",
       "      <td>Carole Lombard</td>\n",
       "      <td>1934</td>\n",
       "      <td>Twentieth Century</td>\n",
       "      <td>NaN</td>\n",
       "    </tr>\n",
       "    <tr>\n",
       "      <th>9</th>\n",
       "      <td>Carrie Fisher</td>\n",
       "      <td>1977</td>\n",
       "      <td>Star Wars</td>\n",
       "      <td>NaN</td>\n",
       "    </tr>\n",
       "    <tr>\n",
       "      <th>12</th>\n",
       "      <td>Clara Bow</td>\n",
       "      <td>1926</td>\n",
       "      <td>Mantrap</td>\n",
       "      <td>NaN</td>\n",
       "    </tr>\n",
       "    <tr>\n",
       "      <th>15</th>\n",
       "      <td>Debbie Reynolds</td>\n",
       "      <td>1952</td>\n",
       "      <td>Singin' in the Rain</td>\n",
       "      <td>NaN</td>\n",
       "    </tr>\n",
       "    <tr>\n",
       "      <th>40</th>\n",
       "      <td>Johnny Depp</td>\n",
       "      <td>1987</td>\n",
       "      <td>21 Jump Street</td>\n",
       "      <td>NaN</td>\n",
       "    </tr>\n",
       "    <tr>\n",
       "      <th>67</th>\n",
       "      <td>Wayne Newton</td>\n",
       "      <td>1972</td>\n",
       "      <td>Daddy, Don't You Walk So Fast</td>\n",
       "      <td>NaN</td>\n",
       "    </tr>\n",
       "  </tbody>\n",
       "</table>\n",
       "</div>"
      ],
      "text/plain": [
       "        Entertainer  Year of Breakthrough/#1 Hit/Award Nomination  \\\n",
       "8    Carole Lombard                                          1934   \n",
       "9     Carrie Fisher                                          1977   \n",
       "12        Clara Bow                                          1926   \n",
       "15  Debbie Reynolds                                          1952   \n",
       "40      Johnny Depp                                          1987   \n",
       "67     Wayne Newton                                          1972   \n",
       "\n",
       "                Breakthrough Name  Year of First Oscar/Grammy/Emmy  \n",
       "8               Twentieth Century                              NaN  \n",
       "9                       Star Wars                              NaN  \n",
       "12                        Mantrap                              NaN  \n",
       "15            Singin' in the Rain                              NaN  \n",
       "40                 21 Jump Street                              NaN  \n",
       "67  Daddy, Don't You Walk So Fast                              NaN  "
      ]
     },
     "execution_count": 46,
     "metadata": {},
     "output_type": "execute_result"
    }
   ],
   "source": [
    "# Dataset with null values\n",
    "df[df[\"Year of First Oscar/Grammy/Emmy\"].isnull() == True]"
   ]
  },
  {
   "cell_type": "code",
   "execution_count": 65,
   "id": "ff6db870",
   "metadata": {},
   "outputs": [
    {
     "data": {
      "image/png": "[encoded data removed]",
      "text/plain": [
       "<Figure size 640x480 with 1 Axes>"
      ]
     },
     "metadata": {},
     "output_type": "display_data"
    }
   ],
   "source": [
    "# Entertainer vs Breakthrough year \n",
    "plt.title(\"BREAKTHROUGH YEAR VS FREQUENCY OF ENTERTAINERS\")\n",
    "df[\"Year of Breakthrough/#1 Hit/Award Nomination\"].value_counts()[:10].plot(marker=\".\")\n",
    "plt.ylabel(\"FREQUENCY\")\n",
    "plt.xlabel(\"YEAR\")\n",
    "plt.ylim(1,5)\n",
    "plt.grid(True)"
   ]
  },
  {
   "cell_type": "code",
   "execution_count": 60,
   "id": "fc4506a7",
   "metadata": {},
   "outputs": [
    {
     "data": {
      "text/plain": [
       "1967    4\n",
       "1984    3\n",
       "1934    3\n",
       "1963    3\n",
       "1989    2\n",
       "1990    2\n",
       "1972    2\n",
       "1951    2\n",
       "1961    2\n",
       "2008    2\n",
       "Name: Year of Breakthrough/#1 Hit/Award Nomination, dtype: int64"
      ]
     },
     "execution_count": 60,
     "metadata": {},
     "output_type": "execute_result"
    }
   ],
   "source": [
    "df[\"Year of Breakthrough/#1 Hit/Award Nomination\"].value_counts()[:10]"
   ]
  },
  {
   "cell_type": "markdown",
   "id": "12c500c0",
   "metadata": {},
   "source": [
    "* Note: The year 1967 marks a significant breakthrough in the entertainment industry, with a notable frequency of 4 entertainers achieving prominence. This surge in entertainers during this year suggests a potential cultural or industry shift, worthy of further investigation and analysis.\n"
   ]
  },
  {
   "cell_type": "code",
   "execution_count": 67,
   "id": "f644c0f1",
   "metadata": {},
   "outputs": [],
   "source": [
    "# Loading the Entertainer - Last work Info.xlsx dataset \n",
    "work_df = pd.read_excel(\"Entertainer - Last work Info.xlsx\")\n",
    "df = work_df.copy()"
   ]
  },
  {
   "cell_type": "code",
   "execution_count": 69,
   "id": "2f0c8d1d",
   "metadata": {},
   "outputs": [
    {
     "data": {
      "text/html": [
       "<div>\n",
       "<style scoped>\n",
       "    .dataframe tbody tr th:only-of-type {\n",
       "        vertical-align: middle;\n",
       "    }\n",
       "\n",
       "    .dataframe tbody tr th {\n",
       "        vertical-align: top;\n",
       "    }\n",
       "\n",
       "    .dataframe thead th {\n",
       "        text-align: right;\n",
       "    }\n",
       "</style>\n",
       "<table border=\"1\" class=\"dataframe\">\n",
       "  <thead>\n",
       "    <tr style=\"text-align: right;\">\n",
       "      <th></th>\n",
       "      <th>Entertainer</th>\n",
       "      <th>Year of Last Major Work (arguable)</th>\n",
       "      <th>Year of Death</th>\n",
       "    </tr>\n",
       "  </thead>\n",
       "  <tbody>\n",
       "    <tr>\n",
       "      <th>0</th>\n",
       "      <td>Adele</td>\n",
       "      <td>2016</td>\n",
       "      <td>NaN</td>\n",
       "    </tr>\n",
       "    <tr>\n",
       "      <th>1</th>\n",
       "      <td>Angelina Jolie</td>\n",
       "      <td>2016</td>\n",
       "      <td>NaN</td>\n",
       "    </tr>\n",
       "    <tr>\n",
       "      <th>2</th>\n",
       "      <td>Aretha Franklin</td>\n",
       "      <td>2014</td>\n",
       "      <td>NaN</td>\n",
       "    </tr>\n",
       "    <tr>\n",
       "      <th>3</th>\n",
       "      <td>Bette Davis</td>\n",
       "      <td>1989</td>\n",
       "      <td>1989.0</td>\n",
       "    </tr>\n",
       "    <tr>\n",
       "      <th>4</th>\n",
       "      <td>Betty White</td>\n",
       "      <td>2016</td>\n",
       "      <td>NaN</td>\n",
       "    </tr>\n",
       "  </tbody>\n",
       "</table>\n",
       "</div>"
      ],
      "text/plain": [
       "       Entertainer  Year of Last Major Work (arguable)  Year of Death\n",
       "0            Adele                                2016            NaN\n",
       "1   Angelina Jolie                                2016            NaN\n",
       "2  Aretha Franklin                                2014            NaN\n",
       "3      Bette Davis                                1989         1989.0\n",
       "4      Betty White                                2016            NaN"
      ]
     },
     "execution_count": 69,
     "metadata": {},
     "output_type": "execute_result"
    }
   ],
   "source": [
    "df.head()"
   ]
  },
  {
   "cell_type": "code",
   "execution_count": 68,
   "id": "de6d6a5a",
   "metadata": {},
   "outputs": [
    {
     "data": {
      "text/plain": [
       "(70, 3)"
      ]
     },
     "execution_count": 68,
     "metadata": {},
     "output_type": "execute_result"
    }
   ],
   "source": [
    "# shape of the datset \n",
    "df.shape"
   ]
  },
  {
   "cell_type": "code",
   "execution_count": 70,
   "id": "b17e8880",
   "metadata": {},
   "outputs": [
    {
     "data": {
      "text/plain": [
       "Entertainer                            0\n",
       "Year of Last Major Work (arguable)     0\n",
       "Year of Death                         40\n",
       "dtype: int64"
      ]
     },
     "execution_count": 70,
     "metadata": {},
     "output_type": "execute_result"
    }
   ],
   "source": [
    "# Lets check for the missing values \n",
    "df.isnull().sum()"
   ]
  },
  {
   "cell_type": "code",
   "execution_count": 71,
   "id": "53d19188",
   "metadata": {},
   "outputs": [
    {
     "name": "stdout",
     "output_type": "stream",
     "text": [
      "Entertainer: No of unique values 70\n",
      "Year of Last Major Work (arguable): No of unique values 29\n",
      "Year of Death: No of unique values 21\n"
     ]
    }
   ],
   "source": [
    "# No of unique values \n",
    "for feature in df.columns:\n",
    "    print(\"{}: No of unique values {}\".format(feature,df[feature].nunique()))"
   ]
  },
  {
   "cell_type": "code",
   "execution_count": 79,
   "id": "85a83981",
   "metadata": {},
   "outputs": [
    {
     "data": {
      "image/png": "[encoded data removed]",
      "text/plain": [
       "<Figure size 640x480 with 1 Axes>"
      ]
     },
     "metadata": {},
     "output_type": "display_data"
    }
   ],
   "source": [
    "plt.title(\"FREQUENCY OF MAJOR NOTABLE WORK OF ENTERTAINERS\")\n",
    "df[\"Year of Last Major Work (arguable)\"].value_counts()[:20].plot(kind=\"bar\",color=\"w\",edgecolor=\"k\")\n",
    "plt.show()"
   ]
  },
  {
   "cell_type": "markdown",
   "id": "a4a96718",
   "metadata": {},
   "source": [
    "* Note: The year 2016 stands out as a significant period for the entertainment industry, marked by a multitude of notable works from various entertainers. This year witnessed a plethora of influential films, groundbreaking music albums, captivating television series, and memorable performances across different mediums. The abundance of noteworthy contributions during 2016 underscores its importance as a pivotal moment in contemporary entertainment history, reflecting the creativity and talent of artists during this period.\n"
   ]
  },
  {
   "cell_type": "code",
   "execution_count": 85,
   "id": "2413d389",
   "metadata": {},
   "outputs": [
    {
     "data": {
      "text/plain": [
       "0                 Adele\n",
       "1        Angelina Jolie\n",
       "4           Betty White\n",
       "7         Carol Burnett\n",
       "9         Carrie Fisher\n",
       "16    Denzel Washington\n",
       "18    Donald Sutherland\n",
       "19       Dustin Hoffman\n",
       "21         Eddie Murphy\n",
       "22           Elton John\n",
       "32     Jennifer Aniston\n",
       "33       Jerry Seinfeld\n",
       "34           Jimmy Page\n",
       "40          Johnny Depp\n",
       "41    Justin Timberlake\n",
       "43    Keifer Sutherland\n",
       "45            Lady Gaga\n",
       "47    Leonardo DiCaprio\n",
       "53         Meryl Streep\n",
       "54          Mick Jagger\n",
       "55       Morgan Freeman\n",
       "56        Oprah Winfrey\n",
       "57       Paul McCartney\n",
       "60               Prince\n",
       "61       Robert Redford\n",
       "65            Tom Hanks\n",
       "66         Tony Bennett\n",
       "67         Wayne Newton\n",
       "68           Will Smith\n",
       "69        Willie Nelson\n",
       "Name: Entertainer, dtype: object"
      ]
     },
     "execution_count": 85,
     "metadata": {},
     "output_type": "execute_result"
    }
   ],
   "source": [
    "# Lets analyse, who all contributed in 2016 Entertainment industry\n",
    "df[\"Entertainer\"][df[\"Year of Last Major Work (arguable)\"] == 2016]"
   ]
  },
  {
   "cell_type": "code",
   "execution_count": 113,
   "id": "79438f29",
   "metadata": {},
   "outputs": [
    {
     "data": {
      "image/png": "[encoded data removed]",
      "text/plain": [
       "<Figure size 640x480 with 1 Axes>"
      ]
     },
     "metadata": {},
     "output_type": "display_data"
    }
   ],
   "source": [
    "df[\"Year of Death\"][df[\"Year of Death\"].isnull() != True].value_counts().iloc[:10].plot(kind=\"bar\")\n",
    "plt.title(\"DEATH FREQUENCY OF ENTERTAINERS\")\n",
    "plt.show()"
   ]
  },
  {
   "cell_type": "markdown",
   "id": "28982bd0",
   "metadata": {},
   "source": [
    "* Note: The years 2016 and 1977 are notable for the higher frequency of actor deaths within the entertainment industry. The loss of prominent actors during these years had significant impacts on the industry, leading to reflections on their legacies and contributions to film, television, and theater. These years serve as reminders of the transient nature of life within the entertainment profession and the enduring impact of talented individuals on audiences worldwide.\n"
   ]
  }
 ],
 "metadata": {
  "kernelspec": {
   "display_name": "Python 3 (ipykernel)",
   "language": "python",
   "name": "python3"
  },
  "language_info": {
   "codemirror_mode": {
    "name": "ipython",
    "version": 3
   },
   "file_extension": ".py",
   "mimetype": "text/x-python",
   "name": "python",
   "nbconvert_exporter": "python",
   "pygments_lexer": "ipython3",
   "version": "3.9.13"
  }
 },
 "nbformat": 4,
 "nbformat_minor": 5
}
